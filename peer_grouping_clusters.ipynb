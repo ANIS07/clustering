{
 "cells": [
  {
   "cell_type": "code",
   "execution_count": 2,
   "metadata": {
    "collapsed": false
   },
   "outputs": [],
   "source": [
    "import pandas as pd\n",
    "import numpy as np\n",
    "import random\n",
    "from useful_functions import generate_fake_data,bag_of_words_similarity,get_clusters,ratcliff_similarity\n",
    "import matplotlib.pylab as plt"
   ]
  },
  {
   "cell_type": "markdown",
   "metadata": {},
   "source": [
    "# Generate data"
   ]
  },
  {
   "cell_type": "code",
   "execution_count": 3,
   "metadata": {
    "collapsed": true
   },
   "outputs": [],
   "source": [
    "number_code = 600\n",
    "number_provider = 1200\n",
    "\n",
    "provider_column = 'provider'\n",
    "code_column= 'code'\n",
    "treatment_column = 'treatment'\n",
    "threshold = 0.23"
   ]
  },
  {
   "cell_type": "code",
   "execution_count": 4,
   "metadata": {
    "collapsed": true
   },
   "outputs": [],
   "source": [
    "def generate_fake_data_mofified(number_code,number_provider,provider_column,code_column):\n",
    "    \n",
    "    # Define traitement , specialy and providers code\n",
    "    speciality_code = []\n",
    "    for i in range(number_code):\n",
    "        speciality_code.append('C'+str(i))\n",
    "        \n",
    "    provider_code = []\n",
    "    for i in range(number_provider):\n",
    "        provider_code.append('P'+str(i))\n",
    "    # construct fake data : unbalanced\n",
    "    data_base = []\n",
    "    for provider in provider_code:\n",
    "        \n",
    "        c1 = random.randint(0,number_code)\n",
    "        list_of_treatments = speciality_code[max(c1-100,0):min(c1+100,number_code)]\n",
    "        \n",
    "        number_traitements = random.randint(1,500)\n",
    "        \n",
    "        for treatment in range(number_traitements):\n",
    "            code_tr = random.choice(list_of_treatments)\n",
    "            data_base.append({'provider':provider,'code':code_tr})\n",
    "            \n",
    "    return pd.DataFrame(data_base)"
   ]
  },
  {
   "cell_type": "code",
   "execution_count": 5,
   "metadata": {
    "collapsed": false
   },
   "outputs": [],
   "source": [
    "data = generate_fake_data_mofified(number_code,number_provider,provider_column,code_column)"
   ]
  },
  {
   "cell_type": "code",
   "execution_count": 6,
   "metadata": {
    "collapsed": false,
    "scrolled": false
   },
   "outputs": [
    {
     "data": {
      "text/html": [
       "<div>\n",
       "<table border=\"1\" class=\"dataframe\">\n",
       "  <thead>\n",
       "    <tr style=\"text-align: right;\">\n",
       "      <th></th>\n",
       "      <th>code</th>\n",
       "      <th>provider</th>\n",
       "    </tr>\n",
       "  </thead>\n",
       "  <tbody>\n",
       "    <tr>\n",
       "      <th>199394</th>\n",
       "      <td>C21</td>\n",
       "      <td>P817</td>\n",
       "    </tr>\n",
       "    <tr>\n",
       "      <th>80342</th>\n",
       "      <td>C112</td>\n",
       "      <td>P326</td>\n",
       "    </tr>\n",
       "    <tr>\n",
       "      <th>175709</th>\n",
       "      <td>C216</td>\n",
       "      <td>P718</td>\n",
       "    </tr>\n",
       "    <tr>\n",
       "      <th>273931</th>\n",
       "      <td>C453</td>\n",
       "      <td>P1119</td>\n",
       "    </tr>\n",
       "    <tr>\n",
       "      <th>23422</th>\n",
       "      <td>C92</td>\n",
       "      <td>P96</td>\n",
       "    </tr>\n",
       "    <tr>\n",
       "      <th>258333</th>\n",
       "      <td>C479</td>\n",
       "      <td>P1054</td>\n",
       "    </tr>\n",
       "    <tr>\n",
       "      <th>128258</th>\n",
       "      <td>C450</td>\n",
       "      <td>P525</td>\n",
       "    </tr>\n",
       "    <tr>\n",
       "      <th>122735</th>\n",
       "      <td>C243</td>\n",
       "      <td>P502</td>\n",
       "    </tr>\n",
       "    <tr>\n",
       "      <th>182478</th>\n",
       "      <td>C126</td>\n",
       "      <td>P750</td>\n",
       "    </tr>\n",
       "    <tr>\n",
       "      <th>284586</th>\n",
       "      <td>C500</td>\n",
       "      <td>P1165</td>\n",
       "    </tr>\n",
       "  </tbody>\n",
       "</table>\n",
       "</div>"
      ],
      "text/plain": [
       "        code provider\n",
       "199394   C21     P817\n",
       "80342   C112     P326\n",
       "175709  C216     P718\n",
       "273931  C453    P1119\n",
       "23422    C92      P96\n",
       "258333  C479    P1054\n",
       "128258  C450     P525\n",
       "122735  C243     P502\n",
       "182478  C126     P750\n",
       "284586  C500    P1165"
      ]
     },
     "execution_count": 6,
     "metadata": {},
     "output_type": "execute_result"
    }
   ],
   "source": [
    "data.sample(10)"
   ]
  },
  {
   "cell_type": "markdown",
   "metadata": {},
   "source": [
    "<font color=\"red\"> KEEP THIS FORMAT FOR LATER : DO NOT EXECUTE THIS PART OF CODE !!</font>"
   ]
  },
  {
   "cell_type": "code",
   "execution_count": null,
   "metadata": {
    "collapsed": true
   },
   "outputs": [],
   "source": [
    "from requests import ConnectionError\n",
    "import pymongo\n",
    "from pymongo import MongoClient\n",
    "import optparse"
   ]
  },
  {
   "cell_type": "code",
   "execution_count": null,
   "metadata": {
    "collapsed": false,
    "scrolled": true
   },
   "outputs": [],
   "source": [
    "def create_mongo_db(drop_indicateur,data,provider_column,code_columns):\n",
    "    \n",
    "    client = MongoClient()\n",
    "    db = client.peer_grouping\n",
    "    \n",
    "    if drop_indicateur:\n",
    "        # drop the db\n",
    "        db.enrichments_collection.drop()\n",
    "    else:\n",
    "        pass\n",
    "    collection = db.enrichments_collection\n",
    "    \n",
    "    # if the db is not dropped and is not null , exist\n",
    "    if db.enrichments_collection.count() >0:\n",
    "        collection = db.enrichments_collection\n",
    "        \n",
    "    else:\n",
    "        for provider, inter_df in data.groupby(provider_column):\n",
    "            dff = pd.DataFrame(inter_df.reset_index()).copy()\n",
    "            for code , inter_df_2 in dff.groupby(code_columns):\n",
    "                temporary = pd.DataFrame(inter_df_2.reset_index()).copy()\n",
    "\n",
    "                number_treatment = {'provider_id':provider,code:len(temporary)}\n",
    "                collection.insert_one(number_treatment)\n",
    "                \n",
    "    return pd.DataFrame(list(collection.find()))"
   ]
  },
  {
   "cell_type": "code",
   "execution_count": null,
   "metadata": {
    "collapsed": false
   },
   "outputs": [],
   "source": [
    "# You need to open the mongo connection before executing the code\n",
    "grouping_traitment = create_mongo_db(False,data,provider_column,code_columns)"
   ]
  },
  {
   "cell_type": "code",
   "execution_count": null,
   "metadata": {
    "collapsed": false
   },
   "outputs": [],
   "source": [
    "len(grouping_traitment)"
   ]
  },
  {
   "cell_type": "code",
   "execution_count": null,
   "metadata": {
    "collapsed": false
   },
   "outputs": [],
   "source": [
    "grouping_traitment.drop('_id', axis=1, inplace=True)"
   ]
  },
  {
   "cell_type": "code",
   "execution_count": null,
   "metadata": {
    "collapsed": true
   },
   "outputs": [],
   "source": [
    "grouping_traitment.fillna(0,inplace=True)"
   ]
  },
  {
   "cell_type": "code",
   "execution_count": null,
   "metadata": {
    "collapsed": false
   },
   "outputs": [],
   "source": [
    "formated_data = grouping_traitment.groupby('provider_id').sum().reset_index()"
   ]
  },
  {
   "cell_type": "code",
   "execution_count": null,
   "metadata": {
    "collapsed": false
   },
   "outputs": [],
   "source": [
    "len(formated_data)"
   ]
  },
  {
   "cell_type": "code",
   "execution_count": null,
   "metadata": {
    "collapsed": false,
    "scrolled": false
   },
   "outputs": [],
   "source": [
    "formated_data.head(2)"
   ]
  },
  {
   "cell_type": "markdown",
   "metadata": {},
   "source": [
    "# A. Formating dataframe as text"
   ]
  },
  {
   "cell_type": "markdown",
   "metadata": {},
   "source": [
    "## Meth 1 : Group the codes for each practician"
   ]
  },
  {
   "cell_type": "code",
   "execution_count": 7,
   "metadata": {
    "collapsed": false
   },
   "outputs": [],
   "source": [
    "traitement = []\n",
    "medecin = []\n",
    "for provider, inter_df in data.groupby(provider_column):\n",
    "    dff = pd.DataFrame(inter_df.reset_index()).copy()\n",
    "    s = \"\"\n",
    "    for x in list(dff[code_column]):\n",
    "        s+=' '+str(x)\n",
    "    traitement.append(s)\n",
    "    medecin.append(provider)"
   ]
  },
  {
   "cell_type": "code",
   "execution_count": 8,
   "metadata": {
    "collapsed": false,
    "scrolled": false
   },
   "outputs": [
    {
     "data": {
      "text/plain": [
       "' C593 C526 C532 C500 C577 C596 C524 C558 C556 C523 C528 C594 C549 C536 C597 C541 C588 C581 C506 C529'"
      ]
     },
     "execution_count": 8,
     "metadata": {},
     "output_type": "execute_result"
    }
   ],
   "source": [
    "# for each doctor , the list of treatment is a text\n",
    "traitement[0][:100]"
   ]
  },
  {
   "cell_type": "code",
   "execution_count": 10,
   "metadata": {
    "collapsed": false
   },
   "outputs": [
    {
     "data": {
      "text/plain": [
       "['P0',\n",
       " 'P1',\n",
       " 'P10',\n",
       " 'P100',\n",
       " 'P1000',\n",
       " 'P1001',\n",
       " 'P1002',\n",
       " 'P1003',\n",
       " 'P1004',\n",
       " 'P1005',\n",
       " 'P1006',\n",
       " 'P1007',\n",
       " 'P1008',\n",
       " 'P1009',\n",
       " 'P101',\n",
       " 'P1010',\n",
       " 'P1011',\n",
       " 'P1012',\n",
       " 'P1013',\n",
       " 'P1014']"
      ]
     },
     "execution_count": 10,
     "metadata": {},
     "output_type": "execute_result"
    }
   ],
   "source": [
    "medecin[:20]"
   ]
  },
  {
   "cell_type": "markdown",
   "metadata": {},
   "source": [
    "## Meth 2 : Group the practicians for each treatment"
   ]
  },
  {
   "cell_type": "code",
   "execution_count": 11,
   "metadata": {
    "collapsed": false
   },
   "outputs": [],
   "source": [
    "providers_listing = []\n",
    "code_listing = []\n",
    "for code, inter_df in data.groupby(code_column):\n",
    "    dff = pd.DataFrame(inter_df.reset_index()).copy()\n",
    "    s = \"\"\n",
    "    for x in list(dff[provider_column]):\n",
    "        s+=' '+str(x)\n",
    "    providers_listing.append(s)\n",
    "    code_listing.append(code)"
   ]
  },
  {
   "cell_type": "code",
   "execution_count": 13,
   "metadata": {
    "collapsed": false
   },
   "outputs": [
    {
     "data": {
      "text/plain": [
       "' P4 P10 P10 P19 P28 P28 P30 P30 P30 P38 P38 P38 P43 P43 P50 P50 P50 P50 P73 P81 P81 P93 P93 P96 P96 P96 P100 P102 P106 P106 P106 P111 P127 P127 P127 P127 P130 P135 P135 P135 P135 P157 P157 P157 P157 P157 P172 P174 P174 P176 P176 P180 P180 P200 P221 P221 P222 P233 P233 P233 P236 P236 P240 P240 P240 P240 P240 P240 P244 P244 P254 P254 P256 P256 P261 P261 P261 P270 P270 P293 P293 P293 P306 P308 P308 P308 P308 P309 P335 P335 P335 P335 P335 P341 P348 P348 P348 P351 P351 P353 P355 P355 P355 P365 P365 P365 P378 P378 P379 P393 P393 P404 P404 P407 P418 P443 P443 P443 P443 P445 P445 P448 P457 P457 P457 P457 P457 P457 P466 P466 P466 P466 P470 P480 P480 P481 P481 P483 P483 P495 P495 P516 P516 P516 P516 P516 P516 P527 P527 P539 P539 P549 P549 P549 P549 P560 P585 P585 P587 P587 P591 P591 P591 P592 P597 P597 P609 P617 P617 P619 P619 P619 P619 P619 P626 P630 P630 P630 P631 P631 P631 P631 P631 P632 P632 P634 P634 P634 P634 P658 P660 P670 P678 P678 P679 P679 P679 P686 P687 P695 P695 P697 P700 P701 P705 P705 P745 P745 P759 P759 P759 P759 P759 P760 P760 P771 P778 P778 P778 P778 P784 P784 P784 P786 P786 P786 P794 P794 P794 P794 P794 P796 P796 P802 P802 P810 P813 P813 P813 P814 P817 P819 P819 P819 P821 P821 P821 P822 P824 P824 P855 P855 P855 P855 P863 P863 P863 P863 P866 P866 P866 P866 P866 P872 P874 P874 P874 P882 P882 P895 P895 P896 P897 P897 P897 P905 P905 P907 P907 P909 P915 P915 P925 P926 P926 P926 P935 P935 P935 P951 P957 P957 P957 P958 P958 P958 P958 P958 P966 P966 P966 P966 P966 P966 P966 P968 P968 P968 P968 P996 P996 P997 P997 P997 P1005 P1005 P1005 P1005 P1007 P1007 P1029 P1029 P1035 P1035 P1035 P1035 P1035 P1057 P1067 P1071 P1084 P1090 P1091 P1091 P1103 P1103 P1117 P1122 P1122 P1122 P1126 P1126 P1126 P1126 P1129 P1140 P1140 P1140 P1157 P1157 P1184 P1184 P1184 P1184 P1184 P1184 P1187 P1187 P1193 P1196 P1196 P1196'"
      ]
     },
     "execution_count": 13,
     "metadata": {},
     "output_type": "execute_result"
    }
   ],
   "source": [
    "providers_listing[0]"
   ]
  },
  {
   "cell_type": "code",
   "execution_count": 14,
   "metadata": {
    "collapsed": false
   },
   "outputs": [
    {
     "data": {
      "text/plain": [
       "'C0'"
      ]
     },
     "execution_count": 14,
     "metadata": {},
     "output_type": "execute_result"
    }
   ],
   "source": [
    "code_listing[0]"
   ]
  },
  {
   "cell_type": "markdown",
   "metadata": {},
   "source": [
    "# Peer grouping"
   ]
  },
  {
   "cell_type": "markdown",
   "metadata": {},
   "source": [
    "## Bag of words similarity"
   ]
  },
  {
   "cell_type": "markdown",
   "metadata": {},
   "source": [
    "### Applied to meth 1"
   ]
  },
  {
   "cell_type": "code",
   "execution_count": 15,
   "metadata": {
    "collapsed": false
   },
   "outputs": [],
   "source": [
    "similarity_matrix = bag_of_words_similarity(traitement)"
   ]
  },
  {
   "cell_type": "code",
   "execution_count": 16,
   "metadata": {
    "collapsed": false
   },
   "outputs": [],
   "source": [
    "dic_of_clusters = get_clusters(similarity_matrix,traitement,medecin,threshold)"
   ]
  },
  {
   "cell_type": "code",
   "execution_count": 17,
   "metadata": {
    "collapsed": false,
    "scrolled": false
   },
   "outputs": [
    {
     "name": "stdout",
     "output_type": "stream",
     "text": [
      "total number of clusters : 4\n",
      "size of the 0 cluster : 617\n",
      "size of the 1 cluster : 573\n",
      "size of the 2 cluster : 3\n",
      "size of the 3 cluster : 2\n"
     ]
    }
   ],
   "source": [
    "print 'total number of clusters : {}'.format(len(dic_of_clusters))\n",
    "for clu in range(len(dic_of_clusters)):\n",
    "    print 'size of the {} cluster : {}'.format(clu,len(dic_of_clusters[clu]['cluster']))"
   ]
  },
  {
   "cell_type": "markdown",
   "metadata": {},
   "source": [
    "### Applied to meth 2"
   ]
  },
  {
   "cell_type": "code",
   "execution_count": 18,
   "metadata": {
    "collapsed": false
   },
   "outputs": [],
   "source": [
    "similarity_matrix_meth2 = bag_of_words_similarity(providers_listing)"
   ]
  },
  {
   "cell_type": "code",
   "execution_count": 19,
   "metadata": {
    "collapsed": false
   },
   "outputs": [],
   "source": [
    "dic_of_clusters_meth2 = get_clusters(similarity_matrix_meth2,providers_listing,code_listing,threshold)"
   ]
  },
  {
   "cell_type": "code",
   "execution_count": 20,
   "metadata": {
    "collapsed": false
   },
   "outputs": [
    {
     "name": "stdout",
     "output_type": "stream",
     "text": [
      "total number of clusters : 3\n",
      "size of the 0 cluster : 303\n",
      "size of the 1 cluster : 286\n",
      "size of the 2 cluster : 11\n"
     ]
    }
   ],
   "source": [
    "print 'total number of clusters : {}'.format(len(dic_of_clusters_meth2))\n",
    "for clu in range(len(dic_of_clusters_meth2)):\n",
    "    print 'size of the {} cluster : {}'.format(clu,len(dic_of_clusters_meth2[clu]['cluster']))"
   ]
  },
  {
   "cell_type": "markdown",
   "metadata": {
    "collapsed": true
   },
   "source": [
    "## ratcliff_clustering"
   ]
  },
  {
   "cell_type": "markdown",
   "metadata": {},
   "source": [
    "<font color=\"red\"> NOT USEFULL : GIVE THE SAME RESULTS AND TAKE A LOT OF TIME TO BE EXECUTED !!!!</font>"
   ]
  },
  {
   "cell_type": "markdown",
   "metadata": {},
   "source": [
    "### Applied to meth 1"
   ]
  },
  {
   "cell_type": "code",
   "execution_count": null,
   "metadata": {
    "collapsed": false
   },
   "outputs": [],
   "source": [
    "racliff_meth_1 = ratcliff_similarity(traitement)"
   ]
  },
  {
   "cell_type": "code",
   "execution_count": null,
   "metadata": {
    "collapsed": false
   },
   "outputs": [],
   "source": [
    "dic_of_clusters_racliff_meth1 = get_clusters(racliff_meth_1,traitement,medecin,threshold)"
   ]
  },
  {
   "cell_type": "code",
   "execution_count": null,
   "metadata": {
    "collapsed": false
   },
   "outputs": [],
   "source": [
    "print 'total number of clusters : {}'.format(len(dic_of_clusters_racliff_meth1))\n",
    "for clu in range(len(dic_of_clusters_racliff_meth1)):\n",
    "    print 'size of the {} cluster : {}'.format(clu,len(dic_of_clusters_racliff_meth1[clu]['cluster']))"
   ]
  },
  {
   "cell_type": "markdown",
   "metadata": {},
   "source": [
    "### Applied to meth 2"
   ]
  },
  {
   "cell_type": "code",
   "execution_count": null,
   "metadata": {
    "collapsed": true
   },
   "outputs": [],
   "source": [
    "racliff_meth_2 = ratcliff_similarity(traitement)\n",
    "dic_of_clusters_racliff_meth2 = get_clusters(racliff_meth_2,traitement,medecin,threshold)"
   ]
  },
  {
   "cell_type": "code",
   "execution_count": null,
   "metadata": {
    "collapsed": true
   },
   "outputs": [],
   "source": [
    "print 'total number of clusters : {}'.format(len(dic_of_clusters_racliff_meth1))\n",
    "for clu in range(len(dic_of_clusters_racliff_meth1)):\n",
    "    print 'size of the {} cluster : {}'.format(clu,len(dic_of_clusters_racliff_meth1[clu]['cluster']))"
   ]
  },
  {
   "cell_type": "markdown",
   "metadata": {},
   "source": [
    "# B. Formating dataframe as distribution"
   ]
  },
  {
   "cell_type": "code",
   "execution_count": 21,
   "metadata": {
    "collapsed": false
   },
   "outputs": [],
   "source": [
    "all_used_codes = pd.DataFrame(list(set(data.code)),columns=['code'])"
   ]
  },
  {
   "cell_type": "code",
   "execution_count": 22,
   "metadata": {
    "collapsed": false
   },
   "outputs": [],
   "source": [
    "all_providers = []\n",
    "all_distrib = []\n",
    "for provider, inter_df in data.groupby(provider_column):\n",
    "    dff = pd.DataFrame(inter_df.reset_index(drop = True)).copy()\n",
    "    code_provi = dff.groupby('code').count().reset_index()\n",
    "    all_codes = pd.merge(all_used_codes,code_provi, on ='code',how='left').fillna(0)\n",
    "    number_treat_prov = sum(code_provi.provider)\n",
    "    distrub_prov = list(all_codes['provider']/number_treat_prov)\n",
    "    all_distrib.append(distrub_prov)\n",
    "    all_providers.append(provider)"
   ]
  },
  {
   "cell_type": "markdown",
   "metadata": {},
   "source": [
    "## Cosine distance"
   ]
  },
  {
   "cell_type": "code",
   "execution_count": 9,
   "metadata": {
    "collapsed": false,
    "scrolled": true
   },
   "outputs": [],
   "source": [
    "from sklearn.metrics.pairwise import pairwise_distances\n",
    "similarity_matrix_prob = pairwise_distances(all_distrib, metric='cosine')\n",
    "dicto_cluster = get_clusters(similarity_matrix_prob,all_distrib,all_providers,0)"
   ]
  },
  {
   "cell_type": "code",
   "execution_count": 10,
   "metadata": {
    "collapsed": false,
    "scrolled": false
   },
   "outputs": [
    {
     "name": "stdout",
     "output_type": "stream",
     "text": [
      "total number of clusters : 2\n",
      "size of the 0 cluster : 668\n",
      "size of the 1 cluster : 532\n"
     ]
    }
   ],
   "source": [
    "print 'total number of clusters : {}'.format(len(dicto_cluster))\n",
    "for clu in range(len(dicto_cluster)):\n",
    "    print 'size of the {} cluster : {}'.format(clu,len(dicto_cluster[clu]['cluster']))"
   ]
  },
  {
   "cell_type": "markdown",
   "metadata": {},
   "source": [
    "## Jensen–Shannon divergence"
   ]
  },
  {
   "cell_type": "code",
   "execution_count": 35,
   "metadata": {
    "collapsed": true
   },
   "outputs": [],
   "source": [
    "def jsdiv(P, Q):\n",
    "    \n",
    "    \"\"\"Compute the Jensen-Shannon divergence between two probability distributions.\n",
    "\n",
    "    Input\n",
    "    -----\n",
    "    P, Q : array-like\n",
    "        Probability distributions of equal length that sum to 1\n",
    "    \"\"\"\n",
    "\n",
    "    def _kldiv(A, B):\n",
    "        return np.sum([v for v in A * np.log2(A/B) if not np.isnan(v)])\n",
    "\n",
    "    P = np.array(P)\n",
    "    Q = np.array(Q)\n",
    "\n",
    "    M = 0.5 * (P + Q)\n",
    "    return 0.5 * (_kldiv(P, M) +_kldiv(Q, M))"
   ]
  },
  {
   "cell_type": "code",
   "execution_count": 36,
   "metadata": {
    "collapsed": false
   },
   "outputs": [],
   "source": [
    "nb_pres = len(all_distrib)\n",
    "similarity_matrix = np.zeros((nb_pres, nb_pres))\n",
    "\n",
    "# Fill the similarity matrix\n",
    "for i in range(nb_pres):\n",
    "    for j in range(nb_pres):\n",
    "        if i < j:\n",
    "            similarity = round(jsdiv(all_distrib[i], all_distrib[j]), 2)\n",
    "            similarity_matrix[i, j] = similarity\n",
    "            similarity_matrix[j, i] = similarity"
   ]
  },
  {
   "cell_type": "code",
   "execution_count": 37,
   "metadata": {
    "collapsed": true
   },
   "outputs": [],
   "source": [
    "dicto_cluster_jen = get_clusters(similarity_matrix,all_distrib,all_providers,0)"
   ]
  },
  {
   "cell_type": "code",
   "execution_count": 38,
   "metadata": {
    "collapsed": false
   },
   "outputs": [
    {
     "name": "stdout",
     "output_type": "stream",
     "text": [
      "total number of clusters : 2\n",
      "size of the 0 cluster : 652\n",
      "size of the 1 cluster : 548\n"
     ]
    }
   ],
   "source": [
    "print 'total number of clusters : {}'.format(len(dicto_cluster_jen))\n",
    "for clu in range(len(dicto_cluster_jen)):\n",
    "    print 'size of the {} cluster : {}'.format(clu,len(dicto_cluster_jen[clu]['cluster']))"
   ]
  },
  {
   "cell_type": "markdown",
   "metadata": {},
   "source": [
    "## Bhattacharyya distance"
   ]
  },
  {
   "cell_type": "code",
   "execution_count": 41,
   "metadata": {
    "collapsed": true
   },
   "outputs": [],
   "source": [
    "def bha_dist(P,Q):\n",
    "    resul = []\n",
    "    for i in range(len(P)):\n",
    "        resul.append(np.sqrt(P[i]*Q[i]))\n",
    "    return(-np.log2(sum(resul)))"
   ]
  },
  {
   "cell_type": "code",
   "execution_count": 42,
   "metadata": {
    "collapsed": false
   },
   "outputs": [],
   "source": [
    "nb_pres = len(all_distrib)\n",
    "similarity_matrix = np.zeros((nb_pres, nb_pres))\n",
    "\n",
    "# Fill the similarity matrix\n",
    "for i in range(nb_pres):\n",
    "    for j in range(nb_pres):\n",
    "        if i < j:\n",
    "            similarity = round(bha_dist(all_distrib[i], all_distrib[j]), 2)\n",
    "            similarity_matrix[i, j] = similarity\n",
    "            similarity_matrix[j, i] = similarity"
   ]
  },
  {
   "cell_type": "code",
   "execution_count": 43,
   "metadata": {
    "collapsed": true
   },
   "outputs": [],
   "source": [
    "dicto_cluster_bhatta = get_clusters(similarity_matrix,all_distrib,all_providers,0)"
   ]
  },
  {
   "cell_type": "code",
   "execution_count": 44,
   "metadata": {
    "collapsed": false
   },
   "outputs": [
    {
     "name": "stdout",
     "output_type": "stream",
     "text": [
      "total number of clusters : 1\n",
      "size of the 0 cluster : 1200\n"
     ]
    }
   ],
   "source": [
    "print 'total number of clusters : {}'.format(len(dicto_cluster_bhatta))\n",
    "for clu in range(len(dicto_cluster_bhatta)):\n",
    "    print 'size of the {} cluster : {}'.format(clu,len(dicto_cluster_bhatta[clu]['cluster']))"
   ]
  },
  {
   "cell_type": "markdown",
   "metadata": {},
   "source": [
    "### Mahalanobis (particular case)"
   ]
  },
  {
   "cell_type": "code",
   "execution_count": 45,
   "metadata": {
    "collapsed": false
   },
   "outputs": [
    {
     "name": "stdout",
     "output_type": "stream",
     "text": [
      "total number of clusters : 2\n",
      "size of the 0 cluster : 640\n",
      "size of the 1 cluster : 560\n"
     ]
    }
   ],
   "source": [
    "similarity_matrix_prob = pairwise_distances(all_distrib, metric='mahalanobis')\n",
    "dicto_cluster = get_clusters(similarity_matrix_prob,all_distrib,all_providers,0)\n",
    "\n",
    "print 'total number of clusters : {}'.format(len(dicto_cluster))\n",
    "for clu in range(len(dicto_cluster)):\n",
    "    print 'size of the {} cluster : {}'.format(clu,len(dicto_cluster[clu]['cluster']))"
   ]
  },
  {
   "cell_type": "code",
   "execution_count": null,
   "metadata": {
    "collapsed": true
   },
   "outputs": [],
   "source": []
  }
 ],
 "metadata": {
  "kernelspec": {
   "display_name": "Python 2",
   "language": "python",
   "name": "python2"
  },
  "language_info": {
   "codemirror_mode": {
    "name": "ipython",
    "version": 2
   },
   "file_extension": ".py",
   "mimetype": "text/x-python",
   "name": "python",
   "nbconvert_exporter": "python",
   "pygments_lexer": "ipython2",
   "version": "2.7.12"
  }
 },
 "nbformat": 4,
 "nbformat_minor": 2
}
